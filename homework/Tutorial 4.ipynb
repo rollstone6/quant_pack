{
 "cells": [
  {
   "cell_type": "markdown",
   "metadata": {},
   "source": [
    "# Problem 1\n",
    "# 写出与波动率匹配的二叉树定价模型的算法函数，取名为Binomial_Pricing_European_Call和Binomial_Pricing_European_Put"
   ]
  },
  {
   "cell_type": "code",
   "execution_count": 1,
   "metadata": {},
   "outputs": [],
   "source": [
    "import math\n",
    "\n",
    "def Binomial_Pricing_European_Call(S0, K, r, T, sigma, n):\n",
    "    \"\"\"\n",
    "    S0: 当前标的资产价格\n",
    "    K: 期权行权价格\n",
    "    r: 无风险利率\n",
    "    T: 期权到期时间（年）\n",
    "    sigma: 标的资产的波动率\n",
    "    n: 二叉树的步数\n",
    "    \"\"\"\n",
    "    deltaT = T / n\n",
    "    u = math.exp(sigma * math.sqrt(deltaT))\n",
    "    d = 1 / u\n",
    "    discount = math.exp(-r * deltaT)\n",
    "    p = (math.exp(r * deltaT) - d) / (u - d)\n",
    "\n",
    "    # 初始化期权价格的二维数组\n",
    "    option_prices = [[0] * (n + 1) for _ in range(n + 1)]\n",
    "\n",
    "    # 计算期权价格\n",
    "    for j in range(n + 1):\n",
    "        option_prices[n][j] = max(S0 * (u ** (n - j)) * (d ** j) - K, 0)\n",
    "\n",
    "    # 反向逐步计算期权价格\n",
    "    for i in range(n - 1, -1, -1):\n",
    "        for j in range(i + 1):\n",
    "            option_prices[i][j] = (option_prices[i][j] * p + option_prices[i + 1][j] * (1 - p)) * discount\n",
    "            option_prices[i][j] = max(option_prices[i][j], S0 * (u ** (i - j)) * (d ** j) - K)\n",
    "\n",
    "    option_price = option_prices[0][0]\n",
    "\n",
    "    return option_price\n",
    "\n",
    "def Binomial_Pricing_European_Put(S0, K, r, T, sigma, n):\n",
    "    \"\"\"\n",
    "    S0: 当前标的资产价格\n",
    "    K: 期权行权价格\n",
    "    r: 无风险利率\n",
    "    T: 期权到期时间（年）\n",
    "    sigma: 标的资产的波动率\n",
    "    n: 二叉树的步数\n",
    "    \"\"\"\n",
    "    deltaT = T / n\n",
    "    u = math.exp(sigma * math.sqrt(deltaT))\n",
    "    d = 1 / u\n",
    "    discount = math.exp(-r * deltaT)\n",
    "    p = (math.exp(r * deltaT) - d) / (u - d)\n",
    "\n",
    "    # 初始化期权价格的二维数组\n",
    "    option_prices = [[0] * (n + 1) for _ in range(n + 1)]\n",
    "\n",
    "    # 计算期权价格\n",
    "    for j in range(n + 1):\n",
    "        option_prices[n][j] = max(K - S0 * (u ** (n - j)) * (d ** j), 0)\n",
    "\n",
    "    # 反向逐步计算期权价格\n",
    "    for i in range(n - 1, -1, -1):\n",
    "        for j in range(i + 1):\n",
    "            option_prices[i][j] = (option_prices[i][j] * p + option_prices[i + 1][j] * (1 - p)) * discount\n",
    "            option_prices[i][j] = max(option_prices[i][j], K - S0 * (u ** (i - j)) * (d ** j))\n",
    "\n",
    "    option_price = option_prices[0][0]\n",
    "\n",
    "    return option_price\n"
   ]
  },
  {
   "cell_type": "markdown",
   "metadata": {},
   "source": [
    "# Problem 2\n",
    "# 计算步长为1,10,100和1000的情况下得到的看涨看跌期权价格"
   ]
  },
  {
   "cell_type": "markdown",
   "metadata": {},
   "source": [
    "S0 = 100\n",
    "\n",
    "r = 0.05\n",
    "\n",
    "vol = 0.1\n",
    "\n",
    "T = 1\n",
    "\n",
    "K = 105"
   ]
  },
  {
   "cell_type": "code",
   "execution_count": 2,
   "metadata": {},
   "outputs": [
    {
     "name": "stdout",
     "output_type": "stream",
     "text": [
      "步长为 1 时的欧式看涨期权价格为：1.4119822482260178\n",
      "步长为 1 时的欧式看跌期权价格为：5.0\n",
      "步长为 10 时的欧式看涨期权价格为：0.3842051906797538\n",
      "步长为 10 时的欧式看跌期权价格为：5.0\n",
      "步长为 100 时的欧式看涨期权价格为：0.013987188578480744\n",
      "步长为 100 时的欧式看跌期权价格为：5.0\n",
      "步长为 1000 时的欧式看涨期权价格为：3.1246421040488242e-06\n",
      "步长为 1000 时的欧式看跌期权价格为：5.0\n"
     ]
    }
   ],
   "source": [
    "S0 = 100  # 当前标的资产价格\n",
    "r = 0.05  # 无风险利率\n",
    "vol = 0.1  # 波动率\n",
    "T = 1  # 期权到期时间\n",
    "K = 105  # 期权行权价格\n",
    "\n",
    "# 不同的步长\n",
    "step_sizes = [1, 10, 100, 1000]\n",
    "\n",
    "for n in step_sizes:\n",
    "    call_price = Binomial_Pricing_European_Call(S0, K, r, T, vol, n)\n",
    "    put_price = Binomial_Pricing_European_Put(S0, K, r, T, vol, n)\n",
    "    print(f\"步长为 {n} 时的欧式看涨期权价格为：{call_price}\")\n",
    "    print(f\"步长为 {n} 时的欧式看跌期权价格为：{put_price}\")"
   ]
  }
 ],
 "metadata": {
  "kernelspec": {
   "display_name": "Python 3",
   "language": "python",
   "name": "python3"
  },
  "language_info": {
   "codemirror_mode": {
    "name": "ipython",
    "version": 3
   },
   "file_extension": ".py",
   "mimetype": "text/x-python",
   "name": "python",
   "nbconvert_exporter": "python",
   "pygments_lexer": "ipython3",
   "version": "3.9.13"
  }
 },
 "nbformat": 4,
 "nbformat_minor": 2
}
